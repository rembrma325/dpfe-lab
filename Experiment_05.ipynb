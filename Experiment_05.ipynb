{
 "cells": [
  {
   "cell_type": "markdown",
   "id": "05441a9b",
   "metadata": {},
   "source": [
    "# Histogram"
   ]
  },
  {
   "cell_type": "markdown",
   "id": "6b7fc8ed",
   "metadata": {},
   "source": [
    "# for CSV file"
   ]
  },
  {
   "cell_type": "code",
   "execution_count": 1,
   "id": "0f8311be",
   "metadata": {},
   "outputs": [],
   "source": [
    "import pandas as pd\n",
    "import numpy as np\n",
    "from matplotlib import pyplot as plt"
   ]
  },
  {
   "cell_type": "code",
   "execution_count": 2,
   "id": "34d66b81",
   "metadata": {},
   "outputs": [
    {
     "data": {
      "text/html": [
       "<div>\n",
       "<style scoped>\n",
       "    .dataframe tbody tr th:only-of-type {\n",
       "        vertical-align: middle;\n",
       "    }\n",
       "\n",
       "    .dataframe tbody tr th {\n",
       "        vertical-align: top;\n",
       "    }\n",
       "\n",
       "    .dataframe thead th {\n",
       "        text-align: right;\n",
       "    }\n",
       "</style>\n",
       "<table border=\"1\" class=\"dataframe\">\n",
       "  <thead>\n",
       "    <tr style=\"text-align: right;\">\n",
       "      <th></th>\n",
       "      <th>Unnamed: 0</th>\n",
       "      <th>Hindi</th>\n",
       "      <th>English</th>\n",
       "      <th>Science</th>\n",
       "      <th>Maths</th>\n",
       "      <th>History</th>\n",
       "      <th>Geograpgy</th>\n",
       "      <th>Total</th>\n",
       "      <th>Results</th>\n",
       "      <th>Div</th>\n",
       "    </tr>\n",
       "  </thead>\n",
       "  <tbody>\n",
       "    <tr>\n",
       "      <th>0</th>\n",
       "      <td>0</td>\n",
       "      <td>65</td>\n",
       "      <td>10</td>\n",
       "      <td>59</td>\n",
       "      <td>3</td>\n",
       "      <td>71</td>\n",
       "      <td>37</td>\n",
       "      <td>245</td>\n",
       "      <td>0</td>\n",
       "      <td>3</td>\n",
       "    </tr>\n",
       "    <tr>\n",
       "      <th>1</th>\n",
       "      <td>1</td>\n",
       "      <td>94</td>\n",
       "      <td>56</td>\n",
       "      <td>4</td>\n",
       "      <td>67</td>\n",
       "      <td>91</td>\n",
       "      <td>50</td>\n",
       "      <td>362</td>\n",
       "      <td>1</td>\n",
       "      <td>1</td>\n",
       "    </tr>\n",
       "    <tr>\n",
       "      <th>2</th>\n",
       "      <td>2</td>\n",
       "      <td>7</td>\n",
       "      <td>85</td>\n",
       "      <td>76</td>\n",
       "      <td>99</td>\n",
       "      <td>60</td>\n",
       "      <td>25</td>\n",
       "      <td>352</td>\n",
       "      <td>0</td>\n",
       "      <td>2</td>\n",
       "    </tr>\n",
       "    <tr>\n",
       "      <th>3</th>\n",
       "      <td>3</td>\n",
       "      <td>88</td>\n",
       "      <td>46</td>\n",
       "      <td>59</td>\n",
       "      <td>94</td>\n",
       "      <td>52</td>\n",
       "      <td>38</td>\n",
       "      <td>377</td>\n",
       "      <td>1</td>\n",
       "      <td>1</td>\n",
       "    </tr>\n",
       "    <tr>\n",
       "      <th>4</th>\n",
       "      <td>4</td>\n",
       "      <td>39</td>\n",
       "      <td>81</td>\n",
       "      <td>37</td>\n",
       "      <td>38</td>\n",
       "      <td>6</td>\n",
       "      <td>54</td>\n",
       "      <td>255</td>\n",
       "      <td>1</td>\n",
       "      <td>3</td>\n",
       "    </tr>\n",
       "    <tr>\n",
       "      <th>...</th>\n",
       "      <td>...</td>\n",
       "      <td>...</td>\n",
       "      <td>...</td>\n",
       "      <td>...</td>\n",
       "      <td>...</td>\n",
       "      <td>...</td>\n",
       "      <td>...</td>\n",
       "      <td>...</td>\n",
       "      <td>...</td>\n",
       "      <td>...</td>\n",
       "    </tr>\n",
       "    <tr>\n",
       "      <th>995</th>\n",
       "      <td>995</td>\n",
       "      <td>55</td>\n",
       "      <td>89</td>\n",
       "      <td>68</td>\n",
       "      <td>58</td>\n",
       "      <td>13</td>\n",
       "      <td>13</td>\n",
       "      <td>296</td>\n",
       "      <td>0</td>\n",
       "      <td>2</td>\n",
       "    </tr>\n",
       "    <tr>\n",
       "      <th>996</th>\n",
       "      <td>996</td>\n",
       "      <td>42</td>\n",
       "      <td>62</td>\n",
       "      <td>25</td>\n",
       "      <td>87</td>\n",
       "      <td>51</td>\n",
       "      <td>68</td>\n",
       "      <td>335</td>\n",
       "      <td>1</td>\n",
       "      <td>2</td>\n",
       "    </tr>\n",
       "    <tr>\n",
       "      <th>997</th>\n",
       "      <td>997</td>\n",
       "      <td>9</td>\n",
       "      <td>83</td>\n",
       "      <td>70</td>\n",
       "      <td>14</td>\n",
       "      <td>11</td>\n",
       "      <td>78</td>\n",
       "      <td>265</td>\n",
       "      <td>0</td>\n",
       "      <td>3</td>\n",
       "    </tr>\n",
       "    <tr>\n",
       "      <th>998</th>\n",
       "      <td>998</td>\n",
       "      <td>23</td>\n",
       "      <td>82</td>\n",
       "      <td>31</td>\n",
       "      <td>42</td>\n",
       "      <td>84</td>\n",
       "      <td>52</td>\n",
       "      <td>314</td>\n",
       "      <td>0</td>\n",
       "      <td>2</td>\n",
       "    </tr>\n",
       "    <tr>\n",
       "      <th>999</th>\n",
       "      <td>999</td>\n",
       "      <td>75</td>\n",
       "      <td>78</td>\n",
       "      <td>68</td>\n",
       "      <td>33</td>\n",
       "      <td>79</td>\n",
       "      <td>91</td>\n",
       "      <td>424</td>\n",
       "      <td>1</td>\n",
       "      <td>1</td>\n",
       "    </tr>\n",
       "  </tbody>\n",
       "</table>\n",
       "<p>1000 rows × 10 columns</p>\n",
       "</div>"
      ],
      "text/plain": [
       "     Unnamed: 0  Hindi  English  Science  Maths  History  Geograpgy  Total  \\\n",
       "0             0     65       10       59      3       71         37    245   \n",
       "1             1     94       56        4     67       91         50    362   \n",
       "2             2      7       85       76     99       60         25    352   \n",
       "3             3     88       46       59     94       52         38    377   \n",
       "4             4     39       81       37     38        6         54    255   \n",
       "..          ...    ...      ...      ...    ...      ...        ...    ...   \n",
       "995         995     55       89       68     58       13         13    296   \n",
       "996         996     42       62       25     87       51         68    335   \n",
       "997         997      9       83       70     14       11         78    265   \n",
       "998         998     23       82       31     42       84         52    314   \n",
       "999         999     75       78       68     33       79         91    424   \n",
       "\n",
       "     Results  Div  \n",
       "0          0    3  \n",
       "1          1    1  \n",
       "2          0    2  \n",
       "3          1    1  \n",
       "4          1    3  \n",
       "..       ...  ...  \n",
       "995        0    2  \n",
       "996        1    2  \n",
       "997        0    3  \n",
       "998        0    2  \n",
       "999        1    1  \n",
       "\n",
       "[1000 rows x 10 columns]"
      ]
     },
     "execution_count": 2,
     "metadata": {},
     "output_type": "execute_result"
    }
   ],
   "source": [
    "df=pd.read_csv(\"/Users/ramu_verma/Downloads/results.csv\")\n",
    "df"
   ]
  },
  {
   "cell_type": "code",
   "execution_count": 3,
   "id": "7e878d46",
   "metadata": {},
   "outputs": [
    {
     "data": {
      "text/plain": [
       "0      65\n",
       "1      94\n",
       "2       7\n",
       "3      88\n",
       "4      39\n",
       "       ..\n",
       "995    55\n",
       "996    42\n",
       "997     9\n",
       "998    23\n",
       "999    75\n",
       "Name: Hindi, Length: 1000, dtype: int64"
      ]
     },
     "execution_count": 3,
     "metadata": {},
     "output_type": "execute_result"
    }
   ],
   "source": [
    "hindi=df[\"Hindi\"]\n",
    "hindi"
   ]
  },
  {
   "cell_type": "code",
   "execution_count": 4,
   "id": "1d4c7e11",
   "metadata": {},
   "outputs": [
    {
     "data": {
      "image/png": "[encoded data removed]",
      "text/plain": [
       "<Figure size 640x480 with 1 Axes>"
      ]
     },
     "metadata": {},
     "output_type": "display_data"
    }
   ],
   "source": [
    "plt.hist(hindi,bins=[10,20,30,40,50,60,70,80,90,100], color=\"black\")\n",
    "plt.xlabel('hindi')\n",
    "plt.ylabel('range')\n",
    "plt.title(\"Student's result\")\n",
    "plt.show()"
   ]
  },
  {
   "cell_type": "markdown",
   "id": "094be6b3",
   "metadata": {},
   "source": [
    "# For excel FIle"
   ]
  },
  {
   "cell_type": "code",
   "execution_count": 5,
   "id": "e770072d",
   "metadata": {},
   "outputs": [
    {
     "data": {
      "text/html": [
       "<div>\n",
       "<style scoped>\n",
       "    .dataframe tbody tr th:only-of-type {\n",
       "        vertical-align: middle;\n",
       "    }\n",
       "\n",
       "    .dataframe tbody tr th {\n",
       "        vertical-align: top;\n",
       "    }\n",
       "\n",
       "    .dataframe thead th {\n",
       "        text-align: right;\n",
       "    }\n",
       "</style>\n",
       "<table border=\"1\" class=\"dataframe\">\n",
       "  <thead>\n",
       "    <tr style=\"text-align: right;\">\n",
       "      <th></th>\n",
       "      <th>USN</th>\n",
       "      <th>Name</th>\n",
       "      <th>Marks</th>\n",
       "    </tr>\n",
       "  </thead>\n",
       "  <tbody>\n",
       "    <tr>\n",
       "      <th>0</th>\n",
       "      <td>1</td>\n",
       "      <td>a</td>\n",
       "      <td>89</td>\n",
       "    </tr>\n",
       "    <tr>\n",
       "      <th>1</th>\n",
       "      <td>2</td>\n",
       "      <td>b</td>\n",
       "      <td>90</td>\n",
       "    </tr>\n",
       "    <tr>\n",
       "      <th>2</th>\n",
       "      <td>3</td>\n",
       "      <td>c</td>\n",
       "      <td>34</td>\n",
       "    </tr>\n",
       "    <tr>\n",
       "      <th>3</th>\n",
       "      <td>4</td>\n",
       "      <td>d</td>\n",
       "      <td>78</td>\n",
       "    </tr>\n",
       "    <tr>\n",
       "      <th>4</th>\n",
       "      <td>5</td>\n",
       "      <td>e</td>\n",
       "      <td>34</td>\n",
       "    </tr>\n",
       "  </tbody>\n",
       "</table>\n",
       "</div>"
      ],
      "text/plain": [
       "   USN Name  Marks\n",
       "0    1    a     89\n",
       "1    2    b     90\n",
       "2    3    c     34\n",
       "3    4    d     78\n",
       "4    5    e     34"
      ]
     },
     "execution_count": 5,
     "metadata": {},
     "output_type": "execute_result"
    }
   ],
   "source": [
    "df1=pd.read_excel(\"/Users/ramu_verma/Documents/Marks.xlsx\")\n",
    "df1"
   ]
  },
  {
   "cell_type": "code",
   "execution_count": 6,
   "id": "a1091034",
   "metadata": {},
   "outputs": [
    {
     "data": {
      "text/plain": [
       "0    89\n",
       "1    90\n",
       "2    34\n",
       "3    78\n",
       "4    34\n",
       "Name: Marks, dtype: int64"
      ]
     },
     "execution_count": 6,
     "metadata": {},
     "output_type": "execute_result"
    }
   ],
   "source": [
    "marks=df1[\"Marks\"]\n",
    "marks"
   ]
  },
  {
   "cell_type": "code",
   "execution_count": 7,
   "id": "687b0921",
   "metadata": {},
   "outputs": [
    {
     "data": {
      "text/plain": [
       "Text(0.5, 1.0, \"Student's Marks\")"
      ]
     },
     "execution_count": 7,
     "metadata": {},
     "output_type": "execute_result"
    },
    {
     "data": {
      "image/png": "[encoded data removed]",
      "text/plain": [
       "<Figure size 640x480 with 1 Axes>"
      ]
     },
     "metadata": {},
     "output_type": "display_data"
    }
   ],
   "source": [
    "plt.hist(marks,bins=[20,40,50,60,80,100], color=\"Red\")\n",
    "plt.xlabel(\"marks\")\n",
    "plt.ylabel('range')\n",
    "plt.title(\"Student's Marks\")"
   ]
  },
  {
   "cell_type": "markdown",
   "id": "a5c504f8",
   "metadata": {},
   "source": [
    "# Binning"
   ]
  },
  {
   "cell_type": "code",
   "execution_count": 24,
   "id": "60b7f0b7",
   "metadata": {},
   "outputs": [
    {
     "name": "stdout",
     "output_type": "stream",
     "text": [
      "90 3\n",
      "Bin of children= [10, 3]\n",
      "Bin of Teen= [18]\n",
      "Bin of Adult= [23, 34, 20]\n",
      "Bin of old= [80, 90]\n"
     ]
    }
   ],
   "source": [
    "def binning(data):\n",
    "    maximum_values = max(data)\n",
    "    minimum_values = min(data)\n",
    "    print(maximum_values,minimum_values)\n",
    "    # child, teen, adult , old\n",
    "    child=[] # empty bin/list\n",
    "    teen=[]\n",
    "    adult=[]\n",
    "    old=[]\n",
    "    # for i in range(0,len(data))\n",
    "\n",
    "    for i in data:\n",
    "        if(i in range(0,13)):\n",
    "            child.append(i)\n",
    "        elif(i in range(13,20)):\n",
    "            teen.append(i)\n",
    "        elif(i in range(20,45)):\n",
    "            adult.append(i)\n",
    "        else:\n",
    "            old.append(i)\n",
    "    print (\"Bin of children=\", child)\n",
    "    print (\"Bin of Teen=\", teen)\n",
    "    print (\"Bin of Adult=\", adult)\n",
    "    print (\"Bin of old=\", old)\n",
    "    \n",
    "    \n",
    "age=[10,23,18,34,80,3,90,20]\n",
    "binning(age)\n",
    "\n",
    "            "
   ]
  },
  {
   "cell_type": "markdown",
   "id": "6e14f4b8",
   "metadata": {},
   "source": [
    "# Correlation analysis"
   ]
  },
  {
   "cell_type": "code",
   "execution_count": 27,
   "id": "c6c54b1d",
   "metadata": {},
   "outputs": [
    {
     "name": "stderr",
     "output_type": "stream",
     "text": [
      "/var/folders/5f/syb7rkqj4qx0kv_l01bc33100000gn/T/ipykernel_52127/3359564369.py:2: FutureWarning: The default value of numeric_only in DataFrame.corr is deprecated. In a future version, it will default to False. Select only valid columns or specify the value of numeric_only to silence this warning.\n",
      "  co = df1.corr()\n"
     ]
    },
    {
     "data": {
      "text/html": [
       "<div>\n",
       "<style scoped>\n",
       "    .dataframe tbody tr th:only-of-type {\n",
       "        vertical-align: middle;\n",
       "    }\n",
       "\n",
       "    .dataframe tbody tr th {\n",
       "        vertical-align: top;\n",
       "    }\n",
       "\n",
       "    .dataframe thead th {\n",
       "        text-align: right;\n",
       "    }\n",
       "</style>\n",
       "<table border=\"1\" class=\"dataframe\">\n",
       "  <thead>\n",
       "    <tr style=\"text-align: right;\">\n",
       "      <th></th>\n",
       "      <th>USN</th>\n",
       "      <th>Marks</th>\n",
       "    </tr>\n",
       "  </thead>\n",
       "  <tbody>\n",
       "    <tr>\n",
       "      <th>USN</th>\n",
       "      <td>1.000000</td>\n",
       "      <td>-0.672403</td>\n",
       "    </tr>\n",
       "    <tr>\n",
       "      <th>Marks</th>\n",
       "      <td>-0.672403</td>\n",
       "      <td>1.000000</td>\n",
       "    </tr>\n",
       "  </tbody>\n",
       "</table>\n",
       "</div>"
      ],
      "text/plain": [
       "            USN     Marks\n",
       "USN    1.000000 -0.672403\n",
       "Marks -0.672403  1.000000"
      ]
     },
     "execution_count": 27,
     "metadata": {},
     "output_type": "execute_result"
    }
   ],
   "source": [
    "import seaborn as sns\n",
    "co = df1.corr()\n",
    "co"
   ]
  },
  {
   "cell_type": "code",
   "execution_count": 28,
   "id": "0dc7be4f",
   "metadata": {},
   "outputs": [
    {
     "data": {
      "text/plain": [
       "<Axes: >"
      ]
     },
     "execution_count": 28,
     "metadata": {},
     "output_type": "execute_result"
    },
    {
     "data": {
      "image/png": "[encoded data removed]",
      "text/plain": [
       "<Figure size 640x480 with 2 Axes>"
      ]
     },
     "metadata": {},
     "output_type": "display_data"
    }
   ],
   "source": [
    "sns.heatmap(co)"
   ]
  }
 ],
 "metadata": {
  "kernelspec": {
   "display_name": "Python 3 (ipykernel)",
   "language": "python",
   "name": "python3"
  },
  "language_info": {
   "codemirror_mode": {
    "name": "ipython",
    "version": 3
   },
   "file_extension": ".py",
   "mimetype": "text/x-python",
   "name": "python",
   "nbconvert_exporter": "python",
   "pygments_lexer": "ipython3",
   "version": "3.10.9"
  }
 },
 "nbformat": 4,
 "nbformat_minor": 5
}
